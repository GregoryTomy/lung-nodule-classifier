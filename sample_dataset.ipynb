{
 "cells": [
  {
   "cell_type": "code",
   "execution_count": 1,
   "metadata": {},
   "outputs": [],
   "source": [
    "import pandas as pd"
   ]
  },
  {
   "cell_type": "code",
   "execution_count": 2,
   "metadata": {},
   "outputs": [
    {
     "name": "stdout",
     "output_type": "stream",
     "text": [
      "754975\n"
     ]
    },
    {
     "data": {
      "text/html": [
       "<div>\n",
       "<style scoped>\n",
       "    .dataframe tbody tr th:only-of-type {\n",
       "        vertical-align: middle;\n",
       "    }\n",
       "\n",
       "    .dataframe tbody tr th {\n",
       "        vertical-align: top;\n",
       "    }\n",
       "\n",
       "    .dataframe thead th {\n",
       "        text-align: right;\n",
       "    }\n",
       "</style>\n",
       "<table border=\"1\" class=\"dataframe\">\n",
       "  <thead>\n",
       "    <tr style=\"text-align: right;\">\n",
       "      <th></th>\n",
       "      <th>seriesuid</th>\n",
       "      <th>coordX</th>\n",
       "      <th>coordY</th>\n",
       "      <th>coordZ</th>\n",
       "      <th>class</th>\n",
       "    </tr>\n",
       "  </thead>\n",
       "  <tbody>\n",
       "    <tr>\n",
       "      <th>0</th>\n",
       "      <td>1.3.6.1.4.1.14519.5.2.1.6279.6001.100225287222...</td>\n",
       "      <td>68.420000</td>\n",
       "      <td>-74.480000</td>\n",
       "      <td>-288.700000</td>\n",
       "      <td>0</td>\n",
       "    </tr>\n",
       "    <tr>\n",
       "      <th>1</th>\n",
       "      <td>1.3.6.1.4.1.14519.5.2.1.6279.6001.100225287222...</td>\n",
       "      <td>-95.209361</td>\n",
       "      <td>-91.809406</td>\n",
       "      <td>-377.426350</td>\n",
       "      <td>0</td>\n",
       "    </tr>\n",
       "    <tr>\n",
       "      <th>2</th>\n",
       "      <td>1.3.6.1.4.1.14519.5.2.1.6279.6001.100225287222...</td>\n",
       "      <td>-24.766755</td>\n",
       "      <td>-120.379294</td>\n",
       "      <td>-273.361539</td>\n",
       "      <td>0</td>\n",
       "    </tr>\n",
       "    <tr>\n",
       "      <th>3</th>\n",
       "      <td>1.3.6.1.4.1.14519.5.2.1.6279.6001.100225287222...</td>\n",
       "      <td>-63.080000</td>\n",
       "      <td>-65.740000</td>\n",
       "      <td>-344.240000</td>\n",
       "      <td>0</td>\n",
       "    </tr>\n",
       "    <tr>\n",
       "      <th>4</th>\n",
       "      <td>1.3.6.1.4.1.14519.5.2.1.6279.6001.100225287222...</td>\n",
       "      <td>52.946688</td>\n",
       "      <td>-92.688873</td>\n",
       "      <td>-241.067872</td>\n",
       "      <td>0</td>\n",
       "    </tr>\n",
       "  </tbody>\n",
       "</table>\n",
       "</div>"
      ],
      "text/plain": [
       "                                           seriesuid     coordX      coordY  \\\n",
       "0  1.3.6.1.4.1.14519.5.2.1.6279.6001.100225287222...  68.420000  -74.480000   \n",
       "1  1.3.6.1.4.1.14519.5.2.1.6279.6001.100225287222... -95.209361  -91.809406   \n",
       "2  1.3.6.1.4.1.14519.5.2.1.6279.6001.100225287222... -24.766755 -120.379294   \n",
       "3  1.3.6.1.4.1.14519.5.2.1.6279.6001.100225287222... -63.080000  -65.740000   \n",
       "4  1.3.6.1.4.1.14519.5.2.1.6279.6001.100225287222...  52.946688  -92.688873   \n",
       "\n",
       "       coordZ  class  \n",
       "0 -288.700000      0  \n",
       "1 -377.426350      0  \n",
       "2 -273.361539      0  \n",
       "3 -344.240000      0  \n",
       "4 -241.067872      0  "
      ]
     },
     "execution_count": 2,
     "metadata": {},
     "output_type": "execute_result"
    }
   ],
   "source": [
    "full_dataset = pd.read_csv(\"Data/candidates_V2.csv\")\n",
    "print(len(full_dataset))\n",
    "full_dataset.head()"
   ]
  },
  {
   "cell_type": "code",
   "execution_count": 7,
   "metadata": {},
   "outputs": [
    {
     "data": {
      "text/plain": [
       "103.11599721845093"
      ]
     },
     "execution_count": 7,
     "metadata": {},
     "output_type": "execute_result"
    }
   ],
   "source": [
    "full_dataset[\"class\"].value_counts()[1]/len(full_dataset) * 50000"
   ]
  },
  {
   "cell_type": "code",
   "execution_count": 6,
   "metadata": {},
   "outputs": [
    {
     "name": "stdout",
     "output_type": "stream",
     "text": [
      "1557\n",
      "100000\n"
     ]
    }
   ],
   "source": [
    "positive_class = full_dataset[full_dataset[\"class\"] == 1]\n",
    "print(len(positive_class))\n",
    "\n",
    "sample_negative_class = full_dataset[full_dataset[\"class\"] == 0].sample(100000)\n",
    "print(len(sample_negative_class))\n"
   ]
  },
  {
   "cell_type": "code",
   "execution_count": 7,
   "metadata": {},
   "outputs": [
    {
     "data": {
      "text/html": [
       "<div>\n",
       "<style scoped>\n",
       "    .dataframe tbody tr th:only-of-type {\n",
       "        vertical-align: middle;\n",
       "    }\n",
       "\n",
       "    .dataframe tbody tr th {\n",
       "        vertical-align: top;\n",
       "    }\n",
       "\n",
       "    .dataframe thead th {\n",
       "        text-align: right;\n",
       "    }\n",
       "</style>\n",
       "<table border=\"1\" class=\"dataframe\">\n",
       "  <thead>\n",
       "    <tr style=\"text-align: right;\">\n",
       "      <th></th>\n",
       "      <th>seriesuid</th>\n",
       "      <th>coordX</th>\n",
       "      <th>coordY</th>\n",
       "      <th>coordZ</th>\n",
       "      <th>class</th>\n",
       "    </tr>\n",
       "  </thead>\n",
       "  <tbody>\n",
       "    <tr>\n",
       "      <th>253545</th>\n",
       "      <td>1.3.6.1.4.1.14519.5.2.1.6279.6001.200513183558...</td>\n",
       "      <td>49.131016</td>\n",
       "      <td>25.906502</td>\n",
       "      <td>-193.072216</td>\n",
       "      <td>0</td>\n",
       "    </tr>\n",
       "    <tr>\n",
       "      <th>490873</th>\n",
       "      <td>1.3.6.1.4.1.14519.5.2.1.6279.6001.301462380687...</td>\n",
       "      <td>47.430000</td>\n",
       "      <td>-234.570000</td>\n",
       "      <td>1104.000000</td>\n",
       "      <td>0</td>\n",
       "    </tr>\n",
       "    <tr>\n",
       "      <th>531051</th>\n",
       "      <td>1.3.6.1.4.1.14519.5.2.1.6279.6001.317087518531...</td>\n",
       "      <td>-122.170000</td>\n",
       "      <td>-13.120000</td>\n",
       "      <td>-164.630000</td>\n",
       "      <td>0</td>\n",
       "    </tr>\n",
       "    <tr>\n",
       "      <th>750647</th>\n",
       "      <td>1.3.6.1.4.1.14519.5.2.1.6279.6001.975426625618...</td>\n",
       "      <td>-99.440000</td>\n",
       "      <td>40.620000</td>\n",
       "      <td>-76.030000</td>\n",
       "      <td>0</td>\n",
       "    </tr>\n",
       "    <tr>\n",
       "      <th>619942</th>\n",
       "      <td>1.3.6.1.4.1.14519.5.2.1.6279.6001.478062284228...</td>\n",
       "      <td>-25.270000</td>\n",
       "      <td>45.800000</td>\n",
       "      <td>-210.380000</td>\n",
       "      <td>0</td>\n",
       "    </tr>\n",
       "    <tr>\n",
       "      <th>...</th>\n",
       "      <td>...</td>\n",
       "      <td>...</td>\n",
       "      <td>...</td>\n",
       "      <td>...</td>\n",
       "      <td>...</td>\n",
       "    </tr>\n",
       "    <tr>\n",
       "      <th>754090</th>\n",
       "      <td>1.3.6.1.4.1.14519.5.2.1.6279.6001.997611074084...</td>\n",
       "      <td>-29.720000</td>\n",
       "      <td>24.620000</td>\n",
       "      <td>-156.010000</td>\n",
       "      <td>1</td>\n",
       "    </tr>\n",
       "    <tr>\n",
       "      <th>754622</th>\n",
       "      <td>1.3.6.1.4.1.14519.5.2.1.6279.6001.997611074084...</td>\n",
       "      <td>42.895122</td>\n",
       "      <td>74.251037</td>\n",
       "      <td>-200.625978</td>\n",
       "      <td>1</td>\n",
       "    </tr>\n",
       "    <tr>\n",
       "      <th>754755</th>\n",
       "      <td>1.3.6.1.4.1.14519.5.2.1.6279.6001.997611074084...</td>\n",
       "      <td>-28.685000</td>\n",
       "      <td>32.690000</td>\n",
       "      <td>-164.835000</td>\n",
       "      <td>1</td>\n",
       "    </tr>\n",
       "    <tr>\n",
       "      <th>754947</th>\n",
       "      <td>1.3.6.1.4.1.14519.5.2.1.6279.6001.997611074084...</td>\n",
       "      <td>-23.719297</td>\n",
       "      <td>31.714489</td>\n",
       "      <td>-156.172233</td>\n",
       "      <td>1</td>\n",
       "    </tr>\n",
       "    <tr>\n",
       "      <th>754948</th>\n",
       "      <td>1.3.6.1.4.1.14519.5.2.1.6279.6001.997611074084...</td>\n",
       "      <td>-25.610000</td>\n",
       "      <td>32.140000</td>\n",
       "      <td>-151.310000</td>\n",
       "      <td>1</td>\n",
       "    </tr>\n",
       "  </tbody>\n",
       "</table>\n",
       "<p>101557 rows × 5 columns</p>\n",
       "</div>"
      ],
      "text/plain": [
       "                                                seriesuid      coordX  \\\n",
       "253545  1.3.6.1.4.1.14519.5.2.1.6279.6001.200513183558...   49.131016   \n",
       "490873  1.3.6.1.4.1.14519.5.2.1.6279.6001.301462380687...   47.430000   \n",
       "531051  1.3.6.1.4.1.14519.5.2.1.6279.6001.317087518531... -122.170000   \n",
       "750647  1.3.6.1.4.1.14519.5.2.1.6279.6001.975426625618...  -99.440000   \n",
       "619942  1.3.6.1.4.1.14519.5.2.1.6279.6001.478062284228...  -25.270000   \n",
       "...                                                   ...         ...   \n",
       "754090  1.3.6.1.4.1.14519.5.2.1.6279.6001.997611074084...  -29.720000   \n",
       "754622  1.3.6.1.4.1.14519.5.2.1.6279.6001.997611074084...   42.895122   \n",
       "754755  1.3.6.1.4.1.14519.5.2.1.6279.6001.997611074084...  -28.685000   \n",
       "754947  1.3.6.1.4.1.14519.5.2.1.6279.6001.997611074084...  -23.719297   \n",
       "754948  1.3.6.1.4.1.14519.5.2.1.6279.6001.997611074084...  -25.610000   \n",
       "\n",
       "            coordY       coordZ  class  \n",
       "253545   25.906502  -193.072216      0  \n",
       "490873 -234.570000  1104.000000      0  \n",
       "531051  -13.120000  -164.630000      0  \n",
       "750647   40.620000   -76.030000      0  \n",
       "619942   45.800000  -210.380000      0  \n",
       "...            ...          ...    ...  \n",
       "754090   24.620000  -156.010000      1  \n",
       "754622   74.251037  -200.625978      1  \n",
       "754755   32.690000  -164.835000      1  \n",
       "754947   31.714489  -156.172233      1  \n",
       "754948   32.140000  -151.310000      1  \n",
       "\n",
       "[101557 rows x 5 columns]"
      ]
     },
     "execution_count": 7,
     "metadata": {},
     "output_type": "execute_result"
    }
   ],
   "source": [
    "sample_dataset = pd.concat([sample_negative_class, positive_class])\n",
    "sample_dataset"
   ]
  },
  {
   "cell_type": "code",
   "execution_count": 5,
   "metadata": {},
   "outputs": [],
   "source": [
    "sample_dataset.to_csv(\"Data/candidates_100k.csv\", index=False)"
   ]
  }
 ],
 "metadata": {
  "kernelspec": {
   "display_name": "ctdl",
   "language": "python",
   "name": "python3"
  },
  "language_info": {
   "codemirror_mode": {
    "name": "ipython",
    "version": 3
   },
   "file_extension": ".py",
   "mimetype": "text/x-python",
   "name": "python",
   "nbconvert_exporter": "python",
   "pygments_lexer": "ipython3",
   "version": "3.11.5"
  },
  "orig_nbformat": 4
 },
 "nbformat": 4,
 "nbformat_minor": 2
}
